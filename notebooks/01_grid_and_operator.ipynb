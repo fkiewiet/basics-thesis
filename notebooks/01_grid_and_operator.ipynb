{
 "cells": [
  {
   "cell_type": "markdown",
   "metadata": {},
   "source": [
    "# 01 \u00b7 Grid and operator assembly\n",
    "\n",
    "Set up grid specifications and assemble discrete Helmholtz operators in 1D, 2D, or 3D."
   ]
  },
  {
   "cell_type": "code",
   "metadata": {},
   "execution_count": null,
   "outputs": [],
   "source": [
    "from helmholtz_basics import GridSpec, FiniteDifference\n",
    "\n",
    "# 2D grid example\n",
    "grid = GridSpec(dims=2, shape=(50, 50), lengths=(1.0, 1.0))\n",
    "print(grid)\n",
    "\n",
    "# Assemble the standard second-order finite-difference operator\n",
    "discretisation = FiniteDifference(wavenumber=25.0)\n",
    "A = discretisation.build_operator(grid)\n",
    "print(A.shape, 'non-zeros:', A.nnz)"
   ]
  },
  {
   "cell_type": "markdown",
   "metadata": {},
   "source": [
    "### What to try next\n",
    "\n",
    "- Change `dims`, `shape`, or `lengths` to see how the grid reacts.\n",
    "- Inspect `A` (e.g. `A.diagonal()[:5]`) to understand the stencil weights.\n",
    "- Swap in your own discretisation class if you want higher-order stencils."
   ]
  }
 ],
 "metadata": {
  "kernelspec": {
   "display_name": "Python 3",
   "language": "python",
   "name": "python3"
  },
  "language_info": {
   "name": "python",
   "version": "3.11"
  }
 },
 "nbformat": 4,
 "nbformat_minor": 5
}
