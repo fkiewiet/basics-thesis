{
 "cells": [
  {
   "cell_type": "markdown",
   "id": "cb2bcc54",
   "metadata": {},
   "source": [
    "# 01 · Grid and operator assembly\n",
    "\n",
    "Set up grid specifications and assemble discrete Helmholtz operators in 1D, 2D, or 3D."
   ]
  },
  {
   "cell_type": "code",
   "execution_count": null,
   "id": "23a0f573",
   "metadata": {
    "vscode": {
     "languageId": "julia"
    }
   },
   "outputs": [],
   "source": [
    "# %%\n",
    "from helmholtz_basics import GridSpec, FiniteDifference"
   ]
  },
  {
   "cell_type": "code",
   "execution_count": null,
   "id": "d2ebaaac",
   "metadata": {
    "vscode": {
     "languageId": "julia"
    }
   },
   "outputs": [],
   "source": [
    "# 2D grid example\n",
    "grid = GridSpec(dims=2, shape=(50, 50), lengths=(1.0, 1.0))\n",
    "print(grid)"
   ]
  },
  {
   "cell_type": "code",
   "execution_count": null,
   "id": "b24ed568",
   "metadata": {
    "vscode": {
     "languageId": "julia"
    }
   },
   "outputs": [],
   "source": [
    "# Assemble the standard second-order finite-difference operator\n",
    "discretisation = FiniteDifference(wavenumber=25.0)\n",
    "A = discretisation.build_operator(grid)\n",
    "print(A.shape, 'non-zeros:', A.nnz)"
   ]
  },
  {
   "cell_type": "markdown",
   "id": "de736ecf",
   "metadata": {},
   "source": [
    "### What to try next\n",
    "\n",
    "- Change `dims`, `shape`, or `lengths` to see how the grid reacts.\n",
    "- Inspect `A` (e.g. `A.diagonal()[:5]`) to understand the stencil weights.\n",
    "- Swap in your own discretisation class if you want higher-order stencils."
   ]
  }
 ],
 "metadata": {
  "language_info": {
   "name": "python"
  }
 },
 "nbformat": 4,
 "nbformat_minor": 5
}
