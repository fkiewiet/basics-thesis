{
 "cells": [
  {
   "cell_type": "markdown",
   "id": "dc43eb67",
   "metadata": {},
   "source": [
    "# 04 · Visualisation snippets\n",
    "\n",
    "Collect helper functions and examples for visualising solutions and residuals."
   ]
  },
  {
   "cell_type": "code",
   "execution_count": null,
   "id": "1cac30db",
   "metadata": {
     "vscode": {
      "languageId": "python"
     }
   },
   "outputs": [],
   "source": [
    "from helmholtz_basics import GridSpec, FiniteDifference, PointSource, gmres_solve\n",
    "from helmholtz_basics.visualisation import plot_field, plot_residuals\n",
    "\n",
    "%matplotlib inline\n",
    "\n",
    "grid = GridSpec(dims=2, shape=(50, 50), lengths=(1.0, 1.0))\n",
    "disc = FiniteDifference(wavenumber=25.0)\n",
    "A = disc.build_operator(grid)\n",
    "load = PointSource(location='centre')\n",
    "b = load.build(grid)\n",
    "result = gmres_solve(A, b, tol=1e-6, maxiter=200)\n",
    "\n",
    "field = result.solution.reshape(grid.shape)\n",
    "plot_field(grid, field, title='Field amplitude')\n",
    "plot_residuals(result.residuals)"
   ]
  },
  {
   "cell_type": "markdown",
   "id": "f7764227",
   "metadata": {},
   "source": [
    "### Suggested follow-ups\n",
    "\n",
    "- Swap `plot_field` for your own Matplotlib code if you need custom styling.\n",
    "- Capture plots to disk inside a results directory for reproducible studies.\n",
    "- Add widgets (e.g. ipywidgets) to build interactive dashboards."
   ]
  }
 ],
  "metadata": {
   "kernelspec": {
    "display_name": "Python (.venv basics-thesis)",
    "language": "python",
    "name": "python3"
   },
   "language_info": {
    "name": "python"
   }
  },
 "nbformat": 4,
 "nbformat_minor": 5
}
