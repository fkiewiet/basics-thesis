{
 "cells": [
  {
   "cell_type": "markdown",
   "metadata": {},
   "source": [
    "# 03 \u00b7 Parameter sweeps\n",
    "\n",
    "Use the experiment runner to explore multiple configurations automatically."
   ]
  },
  {
   "cell_type": "code",
   "metadata": {},
   "execution_count": null,
   "outputs": [],
   "source": [
    "from helmholtz_basics import GridSpec, FiniteDifference, PointSource, PlaneWave, SweepConfig, run_experiment\n",
    "\n",
    "config = SweepConfig(\n",
    "    grids=[\n",
    "        GridSpec(dims=2, shape=(40, 40), lengths=(1.0, 1.0)),\n",
    "        GridSpec(dims=2, shape=(80, 80), lengths=(1.0, 1.0)),\n",
    "    ],\n",
    "    discretisations=[\n",
    "        FiniteDifference(wavenumber=20.0),\n",
    "        FiniteDifference(wavenumber=35.0),\n",
    "    ],\n",
    "    loads=[\n",
    "        PointSource(location='centre'),\n",
    "        PlaneWave(direction=(1.0, 0.0), phase=0.0),\n",
    "    ],\n",
    ")\n",
    "\n",
    "for record in run_experiment(config):\n",
    "    summary = (\n",
    "        record['grid'].shape,\n",
    "        record['discretisation'].wavenumber,\n",
    "        type(record['load']).__name__,\n",
    "        record['solver'].converged,\n",
    "        record['solver'].iterations,\n",
    "    )\n",
    "    print(summary)"
   ]
  },
  {
   "cell_type": "markdown",
   "metadata": {},
   "source": [
    "### Suggested follow-ups\n",
    "\n",
    "- Extend `SweepConfig` with more grids, loads, or solvers.\n",
    "- Attach a callback to log or save results as they stream.\n",
    "- Convert the loop into a Pandas DataFrame for analysis."
   ]
  }
 ],
 "metadata": {
  "kernelspec": {
   "display_name": "Python 3",
   "language": "python",
   "name": "python3"
  },
  "language_info": {
   "name": "python",
   "version": "3.11"
  }
 },
 "nbformat": 4,
 "nbformat_minor": 5
}
