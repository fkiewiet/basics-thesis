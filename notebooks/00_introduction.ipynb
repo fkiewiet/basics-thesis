{
 "cells": [
  {
   "cell_type": "markdown",
   "metadata": {},
   "source": [
    "# Helmholtz basics notebook tour\n",
    "\n",
    "This short notebook introduces the Python toolkit that drives the experiments.\n",
    "Each subsequent notebook focuses on one idea so you can mix and match pieces."
   ]
  },
  {
   "cell_type": "code",
   "metadata": {},
   "execution_count": null,
   "outputs": [],
   "source": [
    "from helmholtz_basics import GridSpec, FiniteDifference, PointSource, gmres_solve, SweepConfig, run_experiment\n",
    "print('Toolkit pieces imported successfully.')"
   ]
  },
  {
   "cell_type": "markdown",
   "metadata": {},
   "source": [
    "## Suggested reading order\n",
    "\n",
    "1. **01_grid_and_operator** \u2013 build grids and assemble the Helmholtz matrix.\n",
    "2. **02_single_run** \u2013 run GMRES for a single configuration and plot diagnostics.\n",
    "3. **03_parameter_sweeps** \u2013 explore parameter variations with the experiment driver.\n",
    "4. **04_visualisation** \u2013 collect helper snippets for plotting residuals and fields.\n",
    "\n",
    "The legacy Julia walkthrough now lives in `notebooks/legacy/` for reference."
   ]
  }
 ],
 "metadata": {
  "kernelspec": {
   "display_name": "Python 3",
   "language": "python",
   "name": "python3"
  },
  "language_info": {
   "name": "python",
   "version": "3.11"
  }
 },
 "nbformat": 4,
 "nbformat_minor": 5
}
