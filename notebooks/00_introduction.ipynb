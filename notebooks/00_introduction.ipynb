{
  "cells": [
    {
      "cell_type": "markdown",
      "metadata": {},
      "source": [
        "# Helmholtz basics tour\n",
        "\n",
        "Welcome! This short intro gives you the landmarks for the Python toolkit so you can jump straight to the bit you need. Each follow-up notebook zooms in on one task\u2014building grids, running a single solve, sweeping parameters, or plotting diagnostics.\n"
      ]
    },
    {
      "cell_type": "markdown",
      "metadata": {},
      "source": [
        "## How to use this tour\n",
        "\n",
        "* Run the quick import cell below to make sure the core pieces load.\n",
        "* Skim the map to decide which focused notebook you want to open next.\n",
        "* Jump to the docs whenever you want a deeper dive or a script-friendly view.\n"
      ]
    },
    {
      "cell_type": "code",
      "metadata": {},
      "execution_count": null,
      "outputs": [],
      "source": [
        "# A tiny smoke test so you know the toolkit is wired up.\n",
        "from helmholtz_basics.config import GridSpec\n",
        "from helmholtz_basics.loads import PointSource\n",
        "\n",
        "grid = GridSpec(dims=2, shape=(32, 32), lengths=(1.0, 1.0))\n",
        "source = PointSource(location=(0.5, 0.5))\n",
        "print(f'Grid spacing: {grid.spacing}')\n",
        "print('Sample load entry:', source.build(grid).nonzero()[0][:5])\n",
        "\n",
        "try:\n",
        "    from helmholtz_basics.operators import FiniteDifference\n",
        "except ImportError as exc:\n",
        "    print('FiniteDifference needs SciPy. Install it when you want to assemble matrices.')\n",
        "else:\n",
        "    disc = FiniteDifference()\n",
        "    print(f'Discretisation ready: {disc.name}')\n"
      ]
    },
    {
      "cell_type": "markdown",
      "metadata": {},
      "source": [
        "## Map of the follow-up notebooks\n",
        "\n",
        "1. **01_grid_and_operator** \u2013 set up 1D/2D/3D grids and assemble Helmholtz matrices.\n",
        "2. **02_single_run** \u2013 solve one configuration, inspect GMRES residuals, and sanity-check the field.\n",
        "3. **03_parameter_sweeps** \u2013 script repeatable runs across dimensions, wavenumbers, or loads.\n",
        "4. **04_visualisation** \u2013 keep plotting snippets handy for residual histories and field slices.\n"
      ]
    },
    {
      "cell_type": "markdown",
      "metadata": {},
      "source": [
        "## Handy extras\n",
        "\n",
        "* **Docs:** `docs/ARCHITECTURE.md` sketches how the package fits together; `docs/PYTHON_COMPANION.md` adds plain-language notes.\n",
        "* **Script exports:** every notebook has a twin under `notebooks/cell_exports/` with `# %%` markers for quick reuse.\n",
        "* **Legacy material:** the original long-form walkthrough now lives in `notebooks/legacy/` if you ever want the full story.\n"
      ]
    }
  ],
  "metadata": {
    "kernelspec": {
      "display_name": "Python 3",
      "language": "python",
      "name": "python3"
    },
    "language_info": {
      "name": "python",
      "version": "3.11"
    }
  },
  "nbformat": 4,
  "nbformat_minor": 5
}