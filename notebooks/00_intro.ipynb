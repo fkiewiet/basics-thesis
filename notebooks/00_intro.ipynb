{
 "cells": [
  {
   "cell_type": "markdown",
   "id": "f040f7d4",
   "metadata": {},
   "source": [
    "# Helmholtz basics tour\n",
    "\n",
    "Welcome! This short intro gives you the landmarks for the Python toolkit so you can jump straight to the bit you need. Each follow-up notebook zooms in on one task—building grids, running a single solve, sweeping parameters, or plotting diagnostics."
   ]
  },
  {
   "cell_type": "markdown",
   "id": "475726d0",
   "metadata": {},
   "source": [
    "## How to use this tour\n",
    "\n",
    "* Run the quick import cell below to make sure the core pieces load.\n",
    "* Skim the map to decide which focused notebook you want to open next.\n",
    "* Jump to the docs whenever you want a deeper dive or a script-friendly view."
   ]
  },
  {
   "cell_type": "code",
   "execution_count": 2,
   "id": "314a6fb4",
   "metadata": {},
   "outputs": [
    {
     "ename": "UndefVarError",
     "evalue": "UndefVarError: `from` not defined in `Main`\nSuggestion: check for spelling errors or missing imports.",
     "output_type": "error",
     "traceback": [
      "UndefVarError: `from` not defined in `Main`\n",
      "Suggestion: check for spelling errors or missing imports.\n"
     ]
    }
   ],
   "source": [
    "# %%\n",
    "# A tiny smoke test so you know the toolkit is wired up.\n",
    "from helmholtz_basics.config import GridSpec\n",
    "from helmholtz_basics.loads import PointSource\n",
    "\n",
    "grid = GridSpec(dims=2, shape=(32, 32), lengths=(1.0, 1.0))\n",
    "source = PointSource(location=(0.5, 0.5))\n",
    "print(f\"Grid spacing: {grid.spacing}\")\n",
    "print(\"Sample load entry:\", source.build(grid).nonzero()[0][:5])\n",
    "\n",
    "try:\n",
    "    from helmholtz_basics.operators import FiniteDifference\n",
    "except ImportError as exc:  # noqa: F841\n",
    "    print(\"FiniteDifference needs SciPy. Install it when you want to assemble matrices.\")\n",
    "else:\n",
    "    disc = FiniteDifference()\n",
    "    print(f\"Discretisation ready: {disc.name}\""
   ]
  },
  {
   "cell_type": "markdown",
   "id": "eba90356",
   "metadata": {},
   "source": [
    "## Map of the follow-up notebooks\n",
    "\n",
    "1. **01_grid_and_operator** – set up 1D/2D/3D grids and assemble Helmholtz matrices.\n",
    "2. **02_single_run** – solve one configuration, inspect GMRES residuals, and sanity-check the field.\n",
    "3. **03_parameter_sweeps** – script repeatable runs across dimensions, wavenumbers, or loads.\n",
    "4. **04_visualisation** – keep plotting snippets handy for residual histories and field slices."
   ]
  },
  {
   "cell_type": "markdown",
   "id": "3db7d36c",
   "metadata": {},
   "source": [
    "## Handy extras\n",
    "\n",
    "* **Docs:** `docs/ARCHITECTURE.md` sketches how the package fits together; `docs/PYTHON_COMPANION.md` adds plain-language notes.\n",
    "* **Script exports:** every notebook has a twin under `notebooks/cell_exports/` with `# %%` markers for quick reuse.\n",
    "* **Legacy material:** the original long-form walkthrough now lives in `notebooks/legacy/` if you ever want the full story."
   ]
  }
 ],
 "metadata": {
  "kernelspec": {
   "display_name": "Julia 1.11.5",
   "language": "julia",
   "name": "julia-1.11"
  },
  "language_info": {
   "file_extension": ".jl",
   "mimetype": "application/julia",
   "name": "julia",
   "version": "1.11.5"
  }
 },
 "nbformat": 4,
 "nbformat_minor": 5
}
