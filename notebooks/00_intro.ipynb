{
 "cells": [
  {
   "cell_type": "markdown",
   "id": "f040f7d4",
   "metadata": {},
   "source": [
    "# Helmholtz basics tour\n",
    "\n",
    "Welcome! This short intro gives you the landmarks for the Python toolkit so you can jump straight to the bit you need. Each follow-up notebook zooms in on one task—building grids, running a single solve, sweeping parameters, or plotting diagnostics."
   ]
  },
  {
   "cell_type": "markdown",
   "id": "475726d0",
   "metadata": {},
   "source": [
    "## How to use this tour\n",
    "\n",
    "* Run the quick import cell below to make sure the core pieces load.\n",
    "* Skim the map to decide which focused notebook you want to open next.\n",
    "* Jump to the docs whenever you want a deeper dive or a script-friendly view."
   ]
  },
  {
   "cell_type": "code",
   "execution_count": 1,
   "id": "314a6fb4",
   "metadata": {},
   "outputs": [
    {
     "ename": "ImportError",
     "evalue": "cannot import name 'assemble_operator' from 'src.operators' (c:\\Users\\31624\\Documents\\MIT\\Programming\\basics-thesis\\src\\operators.py)",
     "output_type": "error",
     "traceback": [
      "\u001b[31m---------------------------------------------------------------------------\u001b[39m",
      "\u001b[31mImportError\u001b[39m                               Traceback (most recent call last)",
      "\u001b[36mCell\u001b[39m\u001b[36m \u001b[39m\u001b[32mIn[1]\u001b[39m\u001b[32m, line 3\u001b[39m\n\u001b[32m      1\u001b[39m \u001b[38;5;66;03m# %%\u001b[39;00m\n\u001b[32m      2\u001b[39m \u001b[38;5;66;03m# A tiny smoke test so you know the toolkit is wired up.\u001b[39;00m\n\u001b[32m----> \u001b[39m\u001b[32m3\u001b[39m \u001b[38;5;28;01mfrom\u001b[39;00m\u001b[38;5;250m \u001b[39m\u001b[34;01msrc\u001b[39;00m\u001b[34;01m.\u001b[39;00m\u001b[34;01mconfig\u001b[39;00m\u001b[38;5;250m \u001b[39m\u001b[38;5;28;01mimport\u001b[39;00m GridSpec\n\u001b[32m      4\u001b[39m \u001b[38;5;28;01mfrom\u001b[39;00m\u001b[38;5;250m \u001b[39m\u001b[34;01msrc\u001b[39;00m\u001b[34;01m.\u001b[39;00m\u001b[34;01mloads\u001b[39;00m\u001b[38;5;250m \u001b[39m\u001b[38;5;28;01mimport\u001b[39;00m PointSource\n\u001b[32m      6\u001b[39m grid = GridSpec(dims=\u001b[32m2\u001b[39m, shape=(\u001b[32m32\u001b[39m, \u001b[32m32\u001b[39m), lengths=(\u001b[32m1.0\u001b[39m, \u001b[32m1.0\u001b[39m))\n",
      "\u001b[36mFile \u001b[39m\u001b[32mc:\\Users\\31624\\Documents\\MIT\\Programming\\basics-thesis\\src\\__init__.py:13\u001b[39m\n\u001b[32m     11\u001b[39m \u001b[38;5;28;01mfrom\u001b[39;00m\u001b[38;5;250m \u001b[39m\u001b[34;01m.\u001b[39;00m\u001b[34;01mconfig\u001b[39;00m\u001b[38;5;250m \u001b[39m\u001b[38;5;28;01mimport\u001b[39;00m GridSpec, HelmholtzConfig, SweepConfig\n\u001b[32m     12\u001b[39m \u001b[38;5;28;01mfrom\u001b[39;00m\u001b[38;5;250m \u001b[39m\u001b[34;01m.\u001b[39;00m\u001b[34;01mgrid\u001b[39;00m\u001b[38;5;250m \u001b[39m\u001b[38;5;28;01mimport\u001b[39;00m build_grid\n\u001b[32m---> \u001b[39m\u001b[32m13\u001b[39m \u001b[38;5;28;01mfrom\u001b[39;00m\u001b[38;5;250m \u001b[39m\u001b[34;01m.\u001b[39;00m\u001b[34;01moperators\u001b[39;00m\u001b[38;5;250m \u001b[39m\u001b[38;5;28;01mimport\u001b[39;00m Discretisation, FiniteDifference, assemble_operator\n\u001b[32m     14\u001b[39m \u001b[38;5;28;01mfrom\u001b[39;00m\u001b[38;5;250m \u001b[39m\u001b[34;01m.\u001b[39;00m\u001b[34;01mloads\u001b[39;00m\u001b[38;5;250m \u001b[39m\u001b[38;5;28;01mimport\u001b[39;00m Load, PointSource, PlaneWaveSource, RandomSource, build_load\n\u001b[32m     15\u001b[39m \u001b[38;5;28;01mfrom\u001b[39;00m\u001b[38;5;250m \u001b[39m\u001b[34;01m.\u001b[39;00m\u001b[34;01msolvers\u001b[39;00m\u001b[38;5;250m \u001b[39m\u001b[38;5;28;01mimport\u001b[39;00m GMRESOptions, SolverResult, gmres_solve\n",
      "\u001b[31mImportError\u001b[39m: cannot import name 'assemble_operator' from 'src.operators' (c:\\Users\\31624\\Documents\\MIT\\Programming\\basics-thesis\\src\\operators.py)"
     ]
    }
   ],
   "source": [
    "# %%\n",
    "# A tiny smoke test so you know the toolkit is wired up.\n",
    "from src.config import GridSpec\n",
    "from src.loads import PointSource\n",
    "\n",
    "grid = GridSpec(dims=2, shape=(32, 32), lengths=(1.0, 1.0))\n",
    "source = PointSource(location=(0.5, 0.5))\n",
    "print(f\"Grid spacing: {grid.spacing}\")\n",
    "print(\"Sample load entry:\", source.build(grid).nonzero()[0][:5])\n",
    "\n",
    "try:\n",
    "    from src.operators import FiniteDifference\n",
    "except ImportError as exc:  # noqa: F841\n",
    "    print(\"FiniteDifference needs SciPy. Install it when you want to assemble matrices.\")\n",
    "else:\n",
    "    disc = FiniteDifference()\n",
    "    print(f\"Discretisation ready: {disc.name}\")"
   ]
  },
  {
   "cell_type": "markdown",
   "id": "eba90356",
   "metadata": {},
   "source": [
    "## Map of the follow-up notebooks\n",
    "\n",
    "1. **01_grid_and_operator** – set up 1D/2D/3D grids and assemble Helmholtz matrices.\n",
    "2. **02_single_run** – solve one configuration, inspect GMRES residuals, and sanity-check the field.\n",
    "3. **03_parameter_sweeps** – script repeatable runs across dimensions, wavenumbers, or loads.\n",
    "4. **04_visualisation** – keep plotting snippets handy for residual histories and field slices."
   ]
  },
  {
   "cell_type": "markdown",
   "id": "3db7d36c",
   "metadata": {},
   "source": [
    "## Handy extras\n",
    "\n",
    "* **Docs:** `docs/ARCHITECTURE.md` sketches how the package fits together; `docs/PYTHON_COMPANION.md` adds plain-language notes.\n",
    "* **Script exports:** every notebook has a twin under `notebooks/cell_exports/` with `# %%` markers for quick reuse.\n",
    "* **Legacy material:** the original long-form walkthrough now lives in `notebooks/legacy/` if you ever want the full story."
   ]
  }
 ],
 "metadata": {
  "kernelspec": {
   "display_name": ".venv",
   "language": "python",
   "name": "python3"
  },
  "language_info": {
   "codemirror_mode": {
    "name": "ipython",
    "version": 3
   },
   "file_extension": ".py",
   "mimetype": "text/x-python",
   "name": "python",
   "nbconvert_exporter": "python",
   "pygments_lexer": "ipython3",
   "version": "3.12.6"
  }
 },
 "nbformat": 4,
 "nbformat_minor": 5
}
