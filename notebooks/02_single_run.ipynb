{
 "cells": [
  {
   "cell_type": "markdown",
   "id": "5820bcc6",
   "metadata": {},
   "source": [
    "# 02 · Single GMRES run\n",
    "\n",
    "Drive the GMRES solver for a single configuration and track residuals."
   ]
  },
  {
   "cell_type": "markdown",
   "id": "306c9596",
   "metadata": {},
   "source": [
    "### Load the essentials"
   ]
  },
  {
   "cell_type": "code",
   "execution_count": 25,
   "id": "e459ec35",
   "metadata": {},
   "outputs": [
    {
     "name": "stdout",
     "output_type": "stream",
     "text": [
      "The autoreload extension is already loaded. To reload it, use:\n",
      "  %reload_ext autoreload\n"
     ]
    }
   ],
   "source": [
    "# %% Setup (hot-reload while you tweak src/*)\n",
    "%load_ext autoreload\n",
    "%autoreload 2\n",
    "\n",
    "# Core API from your package\n",
    "from src import GridSpec, GMRESOptions, gmres_solve\n",
    "\n",
    "# Operators / loads / viz helpers\n",
    "from src.operators import helmholtz_operator, BC\n",
    "from src.loads import PointSource\n",
    "from src.visualisation import plot_residuals, plot_field\n"
   ]
  },
  {
   "cell_type": "markdown",
   "id": "890a259c",
   "metadata": {},
   "source": [
    "## Versions\n",
    "\n",
    "Useful when comparing runs across environments (Python / SciPy / package).\n"
   ]
  },
  {
   "cell_type": "code",
   "execution_count": 26,
   "id": "77dae9ce",
   "metadata": {},
   "outputs": [
    {
     "name": "stdout",
     "output_type": "stream",
     "text": [
      "Python : 3.12.6\n",
      "NumPy  : 2.3.3\n",
      "SciPy  : 1.16.2\n",
      "Package: 0+local\n"
     ]
    }
   ],
   "source": [
    "# %% Version info\n",
    "import sys, numpy as np\n",
    "try:\n",
    "    import scipy\n",
    "except Exception:\n",
    "    scipy = None\n",
    "\n",
    "try:\n",
    "    import src as pkg\n",
    "    pkg_version = getattr(pkg, \"__version__\", \"unknown\")\n",
    "except Exception:\n",
    "    pkg_version = \"unknown\"\n",
    "\n",
    "print(\"Python :\", sys.version.split()[0])\n",
    "print(\"NumPy  :\", np.__version__)\n",
    "print(\"SciPy  :\", getattr(scipy, \"__version__\", \"not installed\"))\n",
    "print(\"Package:\", pkg_version)\n"
   ]
  },
  {
   "cell_type": "markdown",
   "id": "02ddfc32",
   "metadata": {},
   "source": [
    "## Parameters\n",
    "\n",
    "Tweak everything here: grid size, wavenumber `k`, boundary condition `bc`, dtype, and GMRES options.\n"
   ]
  },
  {
   "cell_type": "code",
   "execution_count": 27,
   "id": "e151f067",
   "metadata": {},
   "outputs": [],
   "source": [
    "# %% Parameters\n",
    "# Grid\n",
    "shape   = (60, 60)\n",
    "lengths = (1.0, 1.0)\n",
    "\n",
    "# Helmholtz\n",
    "k     = 30.0                 # wavenumber |k|\n",
    "bc    = BC.DIRICHLET         # try: BC.NEUMANN, BC.PERIODIC\n",
    "dtype = \"complex128\"         # \"float64\" if you want a purely real system\n",
    "\n",
    "# Right-hand side (point source)\n",
    "source_location = \"centre\"   # or (x, y) in physical coords, or \"random\"\n",
    "source_amp      = 1.0\n",
    "\n",
    "# GMRES options\n",
    "gmres_opts = GMRESOptions(tol=1e-6, maxiter=200, restart=None)\n"
   ]
  },
  {
   "cell_type": "markdown",
   "id": "f0d2ecbe",
   "metadata": {},
   "source": [
    "## Build grid\n"
   ]
  },
  {
   "cell_type": "code",
   "execution_count": 28,
   "id": "c43d02f4",
   "metadata": {},
   "outputs": [
    {
     "data": {
      "text/plain": [
       "GridSpec(dims=2, shape=(60, 60), lengths=(1.0, 1.0))"
      ]
     },
     "execution_count": 28,
     "metadata": {},
     "output_type": "execute_result"
    }
   ],
   "source": [
    "# %% Grid\n",
    "grid = GridSpec(dims=2, shape=shape, lengths=lengths)\n",
    "grid\n"
   ]
  },
  {
   "cell_type": "markdown",
   "id": "260caf80",
   "metadata": {},
   "source": [
    "## Assemble Helmholtz operator\n",
    "\n",
    "Build \\(A = \\Delta + k^2 I\\) with the selected boundary condition.\n"
   ]
  },
  {
   "cell_type": "code",
   "execution_count": 29,
   "id": "1dbb5616",
   "metadata": {},
   "outputs": [
    {
     "data": {
      "text/plain": [
       "((3600, 3600), 17056)"
      ]
     },
     "execution_count": 29,
     "metadata": {},
     "output_type": "execute_result"
    }
   ],
   "source": [
    "# %% Operator\n",
    "A = helmholtz_operator(grid, k=k, bc=bc, dtype=dtype)\n",
    "A.shape, A.nnz\n"
   ]
  },
  {
   "cell_type": "markdown",
   "id": "903cfbbf",
   "metadata": {},
   "source": [
    "## Build the RHS (point source)\n",
    "\n",
    "`PointSource` understands keywords (`\"centre\"`, `\"origin\"`, `\"random\"`) or physical coordinates.\n"
   ]
  },
  {
   "cell_type": "code",
   "execution_count": 30,
   "id": "3ec3de6c",
   "metadata": {},
   "outputs": [
    {
     "data": {
      "text/plain": [
       "((3600,), np.int64(1))"
      ]
     },
     "execution_count": 30,
     "metadata": {},
     "output_type": "execute_result"
    }
   ],
   "source": [
    "# %% RHS\n",
    "load = PointSource(location=source_location, amplitude=source_amp)\n",
    "b = load.build(grid)\n",
    "b.shape, (b != 0).sum()    # show size and number of non-zeros (should be 1)\n"
   ]
  },
  {
   "cell_type": "markdown",
   "id": "822f6a10",
   "metadata": {},
   "source": [
    "VANAF HIER ERROR"
   ]
  },
  {
   "cell_type": "markdown",
   "id": "847d6abf",
   "metadata": {},
   "source": [
    "## Run GMRES\n",
    "\n",
    "Solve \\(A u = b\\) and report convergence.  \n",
    "Residual history is recorded through the options-powered callback in `gmres_solve`.\n"
   ]
  },
  {
   "cell_type": "code",
   "execution_count": 31,
   "id": "1a7977d2",
   "metadata": {},
   "outputs": [
    {
     "ename": "TypeError",
     "evalue": "gmres() got an unexpected keyword argument 'tol'",
     "output_type": "error",
     "traceback": [
      "\u001b[31m---------------------------------------------------------------------------\u001b[39m",
      "\u001b[31mTypeError\u001b[39m                                 Traceback (most recent call last)",
      "\u001b[36mCell\u001b[39m\u001b[36m \u001b[39m\u001b[32mIn[31]\u001b[39m\u001b[32m, line 2\u001b[39m\n\u001b[32m      1\u001b[39m \u001b[38;5;66;03m# %% Solve (GMRES)\u001b[39;00m\n\u001b[32m----> \u001b[39m\u001b[32m2\u001b[39m result = \u001b[43mgmres_solve\u001b[49m\u001b[43m(\u001b[49m\u001b[43mA\u001b[49m\u001b[43m,\u001b[49m\u001b[43m \u001b[49m\u001b[43mb\u001b[49m\u001b[43m,\u001b[49m\u001b[43m \u001b[49m\u001b[43moptions\u001b[49m\u001b[43m=\u001b[49m\u001b[43mgmres_opts\u001b[49m\u001b[43m)\u001b[49m\n\u001b[32m      4\u001b[39m \u001b[38;5;28mprint\u001b[39m(\u001b[33mf\u001b[39m\u001b[33m\"\u001b[39m\u001b[33mConverged: \u001b[39m\u001b[38;5;132;01m{\u001b[39;00mresult.converged\u001b[38;5;132;01m}\u001b[39;00m\u001b[33m | info: \u001b[39m\u001b[38;5;132;01m{\u001b[39;00mresult.info\u001b[38;5;132;01m}\u001b[39;00m\u001b[33m\"\u001b[39m)\n\u001b[32m      5\u001b[39m \u001b[38;5;28;01mif\u001b[39;00m result.residuals:\n",
      "\u001b[36mFile \u001b[39m\u001b[32mc:\\Users\\31624\\Documents\\MIT\\Programming\\basics-thesis\\src\\solvers.py:54\u001b[39m, in \u001b[36mgmres_solve\u001b[39m\u001b[34m(matrix, rhs, options, callback)\u001b[39m\n\u001b[32m     51\u001b[39m     \u001b[38;5;28;01mif\u001b[39;00m callback \u001b[38;5;129;01mis\u001b[39;00m \u001b[38;5;129;01mnot\u001b[39;00m \u001b[38;5;28;01mNone\u001b[39;00m:\n\u001b[32m     52\u001b[39m         callback(residual)\n\u001b[32m---> \u001b[39m\u001b[32m54\u001b[39m solution, info = \u001b[43mscipy_gmres\u001b[49m\u001b[43m(\u001b[49m\n\u001b[32m     55\u001b[39m \u001b[43m    \u001b[49m\u001b[43mmatrix\u001b[49m\u001b[43m,\u001b[49m\n\u001b[32m     56\u001b[39m \u001b[43m    \u001b[49m\u001b[43mrhs\u001b[49m\u001b[43m,\u001b[49m\n\u001b[32m     57\u001b[39m \u001b[43m    \u001b[49m\u001b[43mrestart\u001b[49m\u001b[43m=\u001b[49m\u001b[43mopts\u001b[49m\u001b[43m.\u001b[49m\u001b[43mrestart\u001b[49m\u001b[43m,\u001b[49m\n\u001b[32m     58\u001b[39m \u001b[43m    \u001b[49m\u001b[43mtol\u001b[49m\u001b[43m=\u001b[49m\u001b[43mopts\u001b[49m\u001b[43m.\u001b[49m\u001b[43mtol\u001b[49m\u001b[43m,\u001b[49m\n\u001b[32m     59\u001b[39m \u001b[43m    \u001b[49m\u001b[43mmaxiter\u001b[49m\u001b[43m=\u001b[49m\u001b[43mopts\u001b[49m\u001b[43m.\u001b[49m\u001b[43mmaxiter\u001b[49m\u001b[43m,\u001b[49m\n\u001b[32m     60\u001b[39m \u001b[43m    \u001b[49m\u001b[43mcallback\u001b[49m\u001b[43m=\u001b[49m\u001b[43m_callback\u001b[49m\u001b[43m,\u001b[49m\n\u001b[32m     61\u001b[39m \u001b[43m\u001b[49m\u001b[43m)\u001b[49m\n\u001b[32m     62\u001b[39m converged = info == \u001b[32m0\u001b[39m\n\u001b[32m     63\u001b[39m \u001b[38;5;28;01mreturn\u001b[39;00m SolverResult(solution=solution, residuals=residuals, converged=converged, info=info)\n",
      "\u001b[31mTypeError\u001b[39m: gmres() got an unexpected keyword argument 'tol'"
     ]
    }
   ],
   "source": [
    "# %% Solve (GMRES)\n",
    "result = gmres_solve(A, b, options=gmres_opts)\n",
    "\n",
    "print(f\"Converged: {result.converged} | info: {result.info}\")\n",
    "if result.residuals:\n",
    "    print(f\"Iterations: {len(result.residuals)} | Final residual: {result.residuals[-1]:.2e}\")\n"
   ]
  },
  {
   "cell_type": "markdown",
   "id": "a46fc7b5",
   "metadata": {},
   "source": [
    "## Diagnostics\n",
    "\n",
    "Plot residual history and the real part of the solution field.\n"
   ]
  },
  {
   "cell_type": "code",
   "execution_count": 33,
   "id": "9f8d7f06",
   "metadata": {},
   "outputs": [
    {
     "ename": "NameError",
     "evalue": "name 'result' is not defined",
     "output_type": "error",
     "traceback": [
      "\u001b[31m---------------------------------------------------------------------------\u001b[39m",
      "\u001b[31mNameError\u001b[39m                                 Traceback (most recent call last)",
      "\u001b[36mCell\u001b[39m\u001b[36m \u001b[39m\u001b[32mIn[33]\u001b[39m\u001b[32m, line 2\u001b[39m\n\u001b[32m      1\u001b[39m \u001b[38;5;66;03m# %% Diagnostics (residuals)\u001b[39;00m\n\u001b[32m----> \u001b[39m\u001b[32m2\u001b[39m ax = plot_residuals(\u001b[43mresult\u001b[49m)\n\u001b[32m      3\u001b[39m ax.figure.tight_layout() \u001b[38;5;28;01mif\u001b[39;00m ax \u001b[38;5;129;01mis\u001b[39;00m \u001b[38;5;129;01mnot\u001b[39;00m \u001b[38;5;28;01mNone\u001b[39;00m \u001b[38;5;28;01melse\u001b[39;00m \u001b[38;5;28;01mNone\u001b[39;00m\n",
      "\u001b[31mNameError\u001b[39m: name 'result' is not defined"
     ]
    }
   ],
   "source": [
    "# %% Diagnostics (residuals)\n",
    "ax = plot_residuals(result)\n",
    "ax.figure.tight_layout() if ax is not None else None\n"
   ]
  },
  {
   "cell_type": "markdown",
   "id": "adf1e566",
   "metadata": {},
   "source": [
    "### Next steps\n",
    "\n",
    "- Try `bc = BC.NEUMANN` or `BC.PERIODIC` and compare convergence.\n",
    "- Sweep over `k` (e.g., 10, 20, 30, 40) to see how it affects GMRES.\n",
    "- Replace `PointSource` with `PlaneWaveSource` or `RandomSource` for different RHS types.\n",
    "- Switch `dtype` to `\"float64\"` if your loads/solutions are real-valued.\n"
   ]
  },
  {
   "cell_type": "markdown",
   "id": "eef75eb2",
   "metadata": {},
   "source": []
  }
 ],
 "metadata": {
  "kernelspec": {
   "display_name": ".venv",
   "language": "python",
   "name": "python3"
  },
  "language_info": {
   "codemirror_mode": {
    "name": "ipython",
    "version": 3
   },
   "file_extension": ".py",
   "mimetype": "text/x-python",
   "name": "python",
   "nbconvert_exporter": "python",
   "pygments_lexer": "ipython3",
   "version": "3.12.6"
  }
 },
 "nbformat": 4,
 "nbformat_minor": 5
}
