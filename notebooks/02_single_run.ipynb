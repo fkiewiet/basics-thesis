{
 "cells": [
  {
   "cell_type": "markdown",
   "id": "5820bcc6",
   "metadata": {},
   "source": [
    "# 02 · Single GMRES run\n",
    "\n",
    "Drive the GMRES solver for a single configuration and track residuals."
   ]
  },
  {
   "cell_type": "code",
   "execution_count": null,
   "id": "76e37698",
   "metadata": {
     "vscode": {
      "languageId": "python"
     }
   },
   "outputs": [],
   "source": [
    "# %%\n",
    "from helmholtz_basics import GridSpec, FiniteDifference, PointSource, gmres_solve"
   ]
  },
  {
   "cell_type": "code",
   "execution_count": null,
   "id": "20a9d769",
   "metadata": {
     "vscode": {
      "languageId": "python"
     }
   },
   "outputs": [],
   "source": [
    "# Build grid and operator\n",
    "grid = GridSpec(dims=2, shape=(60, 60), lengths=(1.0, 1.0))\n",
    "disc = FiniteDifference(wavenumber=30.0)\n",
    "A = disc.build_operator(grid)\n",
    "\n",
    "# Point-source load at the centre\n",
    "load = PointSource(location='centre', amplitude=1.0)\n",
    "b = load.build(grid)\n",
    "\n",
    "# Run GMRES\n",
    "result = gmres_solve(A, b, tol=1e-6, maxiter=200)\n",
    "print(f\"Converged: {result.converged} in {result.iterations} iterations\")"
   ]
  },
  {
   "cell_type": "markdown",
   "id": "6951ca7c",
   "metadata": {},
   "source": [
    "### Suggested follow-ups\n",
    "\n",
    "- Plot `result.residuals` to inspect convergence.\n",
    "- Experiment with different loads (e.g. `PlaneWave`, `RandomLoad`).\n",
    "- Adjust `wavenumber` or `grid` to see how the solver reacts."
   ]
  }
 ],
  "metadata": {
   "kernelspec": {
    "display_name": "Python (.venv basics-thesis)",
    "language": "python",
    "name": "python3"
   },
   "language_info": {
    "name": "python"
   }
  },
 "nbformat": 4,
 "nbformat_minor": 5
}
