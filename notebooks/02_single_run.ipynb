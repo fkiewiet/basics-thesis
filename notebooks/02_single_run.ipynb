{
 "cells": [
  {
   "cell_type": "markdown",
   "id": "5820bcc6",
   "metadata": {},
   "source": [
    "# 02 · Single GMRES run\n",
    "\n",
    "Drive the GMRES solver for a single configuration and track residuals."
   ]
  },
  {
   "cell_type": "markdown",
   "id": "306c9596",
   "metadata": {},
   "source": [
    "### Load the essentials"
   ]
  },
  {
   "cell_type": "code",
   "execution_count": null,
   "id": "e459ec35",
   "metadata": {},
   "outputs": [],
   "source": [
    "# %% Setup (hot-reload while you tweak src/*)\n",
    "%load_ext autoreload\n",
    "%autoreload 2\n",
    "\n",
    "import sys\n",
    "import numpy as np\n",
    "import matplotlib.pyplot as plt\n",
    "\n",
    "# Core API from your package\n",
    "from src import GridSpec, GMRESOptions, gmres_solve\n",
    "\n",
    "# Operators / loads / viz helpers\n",
    "from src.operators import helmholtz_operator, BC\n",
    "from src.loads import PointSource\n",
    "from src.visualisation import plot_residuals, plot_field"
   ]
  },
  {
   "cell_type": "markdown",
   "id": "890a259c",
   "metadata": {},
   "source": [
    "## Versions\n",
    "\n",
    "Useful when comparing runs across environments (Python / SciPy / package).\n"
   ]
  },
  {
   "cell_type": "code",
   "execution_count": null,
   "id": "77dae9ce",
   "metadata": {},
   "outputs": [],
   "source": [
    "try:\n",
    "    import scipy\n",
    "except Exception:\n",
    "    scipy = None\n",
    "\n",
    "try:\n",
    "    import src as pkg\n",
    "    pkg_version = getattr(pkg, \"__version__\", \"unknown\")\n",
    "except Exception:\n",
    "    pkg_version = \"unknown\"\n",
    "\n",
    "print(\"Python :\", sys.version.split()[0])\n",
    "print(\"NumPy  :\", np.__version__)\n",
    "print(\"SciPy  :\", getattr(scipy, \"__version__\", \"not installed\"))\n",
    "print(\"Package:\", pkg_version)\n"
   ]
  },
  {
   "cell_type": "markdown",
   "id": "02ddfc32",
   "metadata": {},
   "source": [
    "## Parameters\n",
    "\n",
    "Tweak everything here: grid size, wavenumber `k`, boundary condition `bc`, dtype, and GMRES options.\n"
   ]
  },
  {
   "cell_type": "code",
   "execution_count": null,
   "id": "e151f067",
   "metadata": {},
   "outputs": [],
   "source": [
    "# Grid\n",
    "shape   = (60, 60)\n",
    "lengths = (1.0, 1.0)\n",
    "\n",
    "# Helmholtz\n",
    "k     = 30.0                 # wavenumber |k|\n",
    "bc    = BC.DIRICHLET         # try: BC.NEUMANN, BC.PERIODIC\n",
    "dtype = \"complex128\"         # \"float64\" if you want a purely real system\n",
    "\n",
    "# Right-hand side (point source)\n",
    "source_location = \"centre\"   # or (x, y) in physical coords, or \"random\"\n",
    "source_amp      = 1.0\n",
    "\n",
    "# GMRES options\n",
    "gmres_opts = GMRESOptions(tol=1e-6, maxiter=200, restart=None)\n"
   ]
  },
  {
   "cell_type": "markdown",
   "id": "f0d2ecbe",
   "metadata": {},
   "source": [
    "## Build grid\n"
   ]
  },
  {
   "cell_type": "code",
   "execution_count": null,
   "id": "c43d02f4",
   "metadata": {},
   "outputs": [],
   "source": [
    "grid = GridSpec(dims=2, shape=shape, lengths=lengths)\n",
    "grid\n"
   ]
  },
  {
   "cell_type": "markdown",
   "id": "260caf80",
   "metadata": {},
   "source": [
    "## Assemble Helmholtz operator\n",
    "\n",
    "Build $A = \\Delta + k^2 I$ with the selected boundary condition.\n"
   ]
  },
  {
   "cell_type": "code",
   "execution_count": null,
   "id": "1dbb5616",
   "metadata": {},
   "outputs": [],
   "source": [
    "A = helmholtz_operator(grid, k=k, bc=bc, dtype=dtype)\n",
    "A.shape, A.nnz\n"
   ]
  },
  {
   "cell_type": "markdown",
   "id": "903cfbbf",
   "metadata": {},
   "source": [
    "## Build the RHS (point source)\n",
    "\n",
    "`PointSource` understands keywords (`\"centre\"`, `\"origin\"`, `\"random\"`) or physical coordinates.\n"
   ]
  },
  {
   "cell_type": "code",
   "execution_count": null,
   "id": "3ec3de6c",
   "metadata": {},
   "outputs": [],
   "source": [
    "load = PointSource(location=source_location, amplitude=source_amp)\n",
    "b = load.build(grid)\n",
    "b.shape, (b != 0).sum()    # show size and number of non-zeros (should be 1)\n"
   ]
  },
  {
   "cell_type": "markdown",
   "id": "847d6abf",
   "metadata": {},
   "source": [
    "## Run GMRES\n",
    "\n",
    "Solve \\(A u = b\\) and report convergence.  \n",
    "Residual history is recorded through the options-powered callback in `gmres_solve`.\n"
   ]
  },
  {
   "cell_type": "code",
   "execution_count": null,
   "id": "42fd5b58",
   "metadata": {},
   "outputs": [],
   "source": [
    "importlib.reload(solvers)\n"
   ]
  },
  {
   "cell_type": "code",
   "execution_count": null,
   "id": "d6ec8415",
   "metadata": {},
   "outputs": [],
   "source": [
    "print(\"Using solvers module from:\", solvers.__file__)\n"
   ]
  },
  {
   "cell_type": "code",
   "execution_count": null,
   "id": "755b62a2",
   "metadata": {},
   "outputs": [],
   "source": [
    "print(\"Wrapper passes rtol? ->\", \"rtol\" in inspect.getsource(solvers.gmres_solve))\n"
   ]
  },
  {
   "cell_type": "code",
   "execution_count": null,
   "id": "1e69702e",
   "metadata": {},
   "outputs": [],
   "source": [
    "gmres_opts = GMRESOptions(tol=1e-6, maxiter=200, restart=None)\n"
   ]
  },
  {
   "cell_type": "code",
   "execution_count": null,
   "id": "c2fe9af1",
   "metadata": {},
   "outputs": [],
   "source": [
    "result = gmres_solve(A, b, options=gmres_opts)\n"
   ]
  },
  {
   "cell_type": "code",
   "execution_count": null,
   "id": "a8faa4b5",
   "metadata": {},
   "outputs": [],
   "source": [
    "# Run the solver\n",
    "result = gmres_solve(A, b, options=gmres_opts)\n",
    "\n",
    "# Print summary\n",
    "print(f\"Converged: {result.converged} | info: {result.info}\")\n",
    "\n",
    "if result.residuals:\n",
    "    print(f\"Iterations: {len(result.residuals)}\")\n",
    "    print(f\"Final residual: {result.residuals[-1]:.2e}\")\n"
   ]
  },
  {
   "cell_type": "code",
   "execution_count": null,
   "id": "b9964f6d",
   "metadata": {},
   "outputs": [],
   "source": [
    "\n",
    "# Run the solver\n",
    "result = gmres_solve(A, b, options=gmres_opts)\n",
    "\n",
    "# Print summary\n",
    "print(f\"Converged: {result.converged} | info: {result.info}\")\n",
    "if result.residuals:\n",
    "    print(f\"Iterations: {len(result.residuals)} | Final residual: {result.residuals[-1]:.2e}\")\n",
    "\n"
   ]
  },
  {
   "cell_type": "markdown",
   "id": "a46fc7b5",
   "metadata": {},
   "source": [
    "## Diagnostics\n",
    "\n",
    "Plots for\n",
    "- residual history,\n",
    "- real part of the solution field,\n",
    "- magnitude of the solution field. \n"
   ]
  },
  {
   "cell_type": "code",
   "execution_count": null,
   "id": "a04a6f20",
   "metadata": {},
   "outputs": [],
   "source": [
    "import numpy as np\n",
    "import matplotlib.pyplot as plt\n",
    "from src.visualisation import plot_residuals, plot_field"
   ]
  },
  {
   "cell_type": "markdown",
   "id": "b0737cfc",
   "metadata": {},
   "source": [
    "#### Residual Convergence\n"
   ]
  },
  {
   "cell_type": "code",
   "execution_count": null,
   "id": "604e248b",
   "metadata": {},
   "outputs": [],
   "source": [
    "if hasattr(result, \"residuals\") and result.residuals:\n",
    "    ax = plot_residuals(result)  # your built-in plotting helper\n",
    "    ax.figure.suptitle(\"GMRES Residual Convergence\")\n",
    "    plt.show()\n",
    "else:\n",
    "    print(\"No residual history available to plot.\")"
   ]
  },
  {
   "cell_type": "markdown",
   "id": "abd56db7",
   "metadata": {},
   "source": [
    "#### Real Part of Solution Field"
   ]
  },
  {
   "cell_type": "code",
   "execution_count": null,
   "id": "8796ab4b",
   "metadata": {},
   "outputs": [],
   "source": [
    "if hasattr(result, \"solution\") and result.solution is not None:\n",
    "    u = np.array(result.solution)\n",
    "    u_real = np.real(u).reshape(grid.shape)\n",
    "    ax = plot_field(u_real, grid.shape)\n",
    "    ax.figure.suptitle(\"Real Part of Solution Field\")\n",
    "    plt.show()\n",
    "else:\n",
    "    print(\"No solution vector found in GMRES result.\")"
   ]
  },
  {
   "cell_type": "markdown",
   "id": "79c7acca",
   "metadata": {},
   "source": [
    "#### Magnitude field"
   ]
  },
  {
   "cell_type": "code",
   "execution_count": null,
   "id": "211a8f0c",
   "metadata": {},
   "outputs": [],
   "source": [
    "if hasattr(result, \"solution\") and result.solution is not None:\n",
    "    u_abs = np.abs(result.solution).reshape(grid.shape)\n",
    "    plt.figure()\n",
    "    plt.imshow(u_abs, extent=[0, grid.lengths[0], 0, grid.lengths[1]], origin=\"lower\")\n",
    "    plt.colorbar(label=\"|u|\")\n",
    "    plt.title(\"Solution Magnitude Field\")\n",
    "    plt.xlabel(\"x\"); plt.ylabel(\"y\")\n",
    "    plt.tight_layout()\n",
    "    plt.show()"
   ]
  },
  {
   "cell_type": "markdown",
   "id": "adf1e566",
   "metadata": {},
   "source": [
    "### Next steps\n",
    "\n",
    "- Try `bc = BC.NEUMANN` or `BC.PERIODIC` and compare convergence.\n",
    "- Sweep over `k` (e.g., 10, 20, 30, 40) to see how it affects GMRES.\n",
    "- Replace `PointSource` with `PlaneWaveSource` or `RandomSource` for different RHS types.\n",
    "- Switch `dtype` to `\"float64\"` if your loads/solutions are real-valued.\n"
   ]
  }
 ],
 "metadata": {
  "kernelspec": {
   "display_name": ".venv",
   "language": "python",
   "name": "python3"
  },
  "language_info": {
   "codemirror_mode": {
    "name": "ipython",
    "version": 3
   },
   "file_extension": ".py",
   "mimetype": "text/x-python",
   "name": "python",
   "nbconvert_exporter": "python",
   "pygments_lexer": "ipython3",
   "version": "3.12.6"
  }
 },
 "nbformat": 4,
 "nbformat_minor": 5
}
